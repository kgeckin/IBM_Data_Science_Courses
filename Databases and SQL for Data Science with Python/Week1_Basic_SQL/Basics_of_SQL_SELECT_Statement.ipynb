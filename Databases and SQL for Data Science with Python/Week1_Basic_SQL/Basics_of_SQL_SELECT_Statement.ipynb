{
  "nbformat": 4,
  "nbformat_minor": 0,
  "metadata": {
    "colab": {
      "provenance": [],
      "authorship_tag": "ABX9TyPLSCrmOnnYu3nviSimjrob"
    },
    "kernelspec": {
      "name": "python3",
      "display_name": "Python 3"
    },
    "language_info": {
      "name": "python"
    }
  },
  "cells": [
    {
      "cell_type": "markdown",
      "source": [
        "# Databases and SQL for Data Science with Python"
      ],
      "metadata": {
        "id": "MdQdcL-5PZnI"
      }
    },
    {
      "cell_type": "markdown",
      "source": [
        "## Hands-on Lab : Basics of SQL SELECT Statement   \n",
        "\n",
        "---\n",
        "\n",
        "   \n",
        "   \n",
        "In this lab, you will learn one of the most commonly used statements of SQL (Structured Query Language), the SELECT statement. The SELECT statement is used to select data from a database.\n",
        "\n",
        "\n"
      ],
      "metadata": {
        "id": "Dui-NT0nPd6w"
      }
    },
    {
      "cell_type": "markdown",
      "source": [
        "**How does the syntax of a SELECT statement look?**\n",
        "\n",
        "\n",
        "```\n",
        "SELECT column1, column2, ...\n",
        "FROM table_name\n",
        "WHERE condition;\n",
        "```\n",
        "\n"
      ],
      "metadata": {
        "id": "hxROiFItPxFG"
      }
    },
    {
      "cell_type": "markdown",
      "source": [
        "**What do the keywords / clauses of a SQL statement shown above do?**\n",
        "\n",
        "*   FROM: Specifies from which table to get the data. The clause can include optional JOIN subclauses to specify the rules for joining tables.\n",
        "*   [Optional Clause] WHERE : Specifies which rows to retrieve.\n",
        "\n",
        "**Why is there a semicolon after the SQL statements?**\n",
        "\n",
        "*   Some database systems require a semicolon at the end of each SQL statement for execution. It is a standard way to separate one SQL statement from another which allows more than one SQL statement to be executed in the same call to the server. So, it is good practice to use a semicolon at the end of each SQL statement."
      ],
      "metadata": {
        "id": "Ua55tG0zQVjc"
      }
    },
    {
      "cell_type": "markdown",
      "source": [
        "## Software Used in this Lab   \n",
        "---\n",
        "In this lab, you will use [Datasette](https://github.com/simonw/datasette?utm_medium=Exinfluencer&utm_source=Exinfluencer&utm_content=000026UJ&utm_term=10006555&utm_id=NA-SkillsNetwork-Channel-SkillsNetworkCoursesIBMDeveloperSkillsNetworkDB0201ENSkillsNetwork20127838-2022-01-01), an open source multi-tool for exploring and publishing data.   \n",
        "\n"
      ],
      "metadata": {
        "id": "bSBKDShyQwRa"
      }
    },
    {
      "cell_type": "markdown",
      "source": [
        "## Database Used in this Lab   \n",
        "---\n",
        "The database used in this lab comes from the following dataset source: [Film Locations in San Francisco](https://data.sfgov.org/Culture-and-Recreation/Film-Locations-in-San-Francisco/yitu-d5am?utm_medium=Exinfluencer&utm_source=Exinfluencer&utm_content=000026UJ&utm_term=10006555&utm_id=NA-SkillsNetwork-Channel-SkillsNetworkCoursesIBMDeveloperSkillsNetworkDB0201ENSkillsNetwork20127838-2022-01-01) under a [PDDL: Public Domain Dedication and License](https://opendatacommons.org/licenses/pddl/1-0/?utm_medium=Exinfluencer&utm_source=Exinfluencer&utm_content=000026UJ&utm_term=10006555&utm_id=NA-SkillsNetwork-Channel-SkillsNetworkCoursesIBMDeveloperSkillsNetworkDB0201ENSkillsNetwork20127838-2022-01-01)."
      ],
      "metadata": {
        "id": "B4yGkdxDRJ_v"
      }
    },
    {
      "cell_type": "markdown",
      "source": [
        "## Objectives\n",
        "---\n",
        "After completing this lab, you will be able to:\n",
        "*   Query a database\n",
        "*   Retrieve data records from one or more tables of a database as resultset according to the criteria you specify\n",
        "\n",
        "\n"
      ],
      "metadata": {
        "id": "7pugaha3RtCt"
      }
    },
    {
      "cell_type": "markdown",
      "source": [
        "# Task A: Exploring the Database\n",
        "---\n",
        "Let us first explore the **SanFranciscoFilmLocations** database using the **Datasette** tool:\n",
        "\n",
        "*   If the first statement listed below is not already in the Datasette textbox on the right, then copy the code below by clicking on the little copy button on the bottom right of the codeblock below and then paste it into the textbox of the Datasette tool using either **Ctrl+V** or right-click in the text box and choose **Paste**.\n",
        "\n",
        "\n",
        "```\n",
        "SELECT * FROM FilmLocations;\n",
        "```\n",
        "![A.1.png](https://cf-courses-data.s3.us.cloud-object-storage.appdomain.cloud/IBMDeveloperSkillsNetwork-DB0201EN-SkillsNetwork/labs/Labs_Coursera_V5/labs/Lab%20-%20Basics%20of%20SQL%20SELECT%20Statement/images/A.1.png)\n",
        "\n",
        "*    Click **Submit Query**.\n",
        "*    Now you can scroll down the table and explore all the columns and rows of the **FilmLocations** table to get an overall idea of the table contents.   \n",
        "\n",
        "![A.2](https://cf-courses-data.s3.us.cloud-object-storage.appdomain.cloud/IBMDeveloperSkillsNetwork-DB0201EN-SkillsNetwork/labs/Labs_Coursera_V5/labs/Lab%20-%20Basics%20of%20SQL%20SELECT%20Statement/images/A.2.png)   \n",
        "*   These are the column attribute descriptions from the FilmLocations table:\n",
        "\n",
        "\n",
        "```\n",
        "FilmLocations(\n",
        "    Title:              titles of the films, \n",
        "    ReleaseYear:        time of public release of the films, \n",
        "    Locations:          locations of San Francisco where the films were shot, \n",
        "    FunFacts:           funny facts about the filming locations, \n",
        "    ProductionCompany:  companies who produced the films, \n",
        "    Distributor:        companies who distributed the films, \n",
        "    Director:           people who directed the films, \n",
        "    Writer:             people who wrote the films, \n",
        "    Actor1:             person 1 who acted in the films, \n",
        "    Actor2:             person 2 who acted in the films, \n",
        "    Actor3:             person 3 who acted in the films\n",
        ")\n",
        "```\n",
        "\n",
        "\n",
        "\n"
      ],
      "metadata": {
        "id": "oUqvHAcRR-U3"
      }
    },
    {
      "cell_type": "markdown",
      "source": [
        "# Task B: Example exercises on SELECT statement   \n",
        "\n",
        "\n",
        "---\n",
        "Now let us go through some examples of SELECT queries:\n",
        "\n",
        "\n",
        "---\n",
        "\n",
        "\n",
        "\n",
        "*    In this example, suppose we want to retrieve details of all the films from the *“FilmLocations”* table. The details of each film record should contain all the film columns.\n",
        "   \n",
        "    i.Problem:\n",
        "> Retrieve all records with all columns from the *“FilmLocations”* table.   \n",
        "\n",
        "    ii.Solution:\n",
        "```\n",
        "SELECT * FROM FilmLocations;\n",
        "```\n",
        "    iii.Copy the solution code above by clicking on the little copy button on the bottom right of the codeblock below and paste it to the textbox of the Datasette tool. Then click Submit query.\n",
        "    ![A.3.png](https://cf-courses-data.s3.us.cloud-object-storage.appdomain.cloud/IBMDeveloperSkillsNetwork-DB0201EN-SkillsNetwork/labs/Labs_Coursera_V5/labs/Lab%20-%20Basics%20of%20SQL%20SELECT%20Statement/images/B.1.3.png)   \n",
        "\n",
        "    iv.Your output resultset should match like below:\n",
        "    ![A.4.png](https://cf-courses-data.s3.us.cloud-object-storage.appdomain.cloud/IBMDeveloperSkillsNetwork-DB0201EN-SkillsNetwork/labs/Labs_Coursera_V5/labs/Lab%20-%20Basics%20of%20SQL%20SELECT%20Statement/images/B.1.4.png) \n",
        "\n",
        "\n",
        "---\n",
        "\n",
        "\n",
        "*    In this example, now we want to retrieve selective details of all the film records. Let us retrieve the names of all the films along with director names and writer names.\n",
        "    i.Problem:\n",
        "    >Retrieve the names of all films with director names and writer names.\n",
        "    ii.Solution:\n",
        "\n",
        "    ```\n",
        "    SELECT Title, Director, Writer FROM FilmLocations;\n",
        "    ```\n",
        "    iii.Copy the solution code above by clicking on the little copy button on the bottom right of the codeblock below and paste it to the textbox of the Datasette tool. Then click **Submit query**.\n",
        "    ![A.5.png](https://cf-courses-data.s3.us.cloud-object-storage.appdomain.cloud/IBMDeveloperSkillsNetwork-DB0201EN-SkillsNetwork/labs/Labs_Coursera_V5/labs/Lab%20-%20Basics%20of%20SQL%20SELECT%20Statement/images/B.2.3.png)\n",
        "    iv.Your output resultset should match like below:\n",
        "    ![A.6.png](https://cf-courses-data.s3.us.cloud-object-storage.appdomain.cloud/IBMDeveloperSkillsNetwork-DB0201EN-SkillsNetwork/labs/Labs_Coursera_V5/labs/Lab%20-%20Basics%20of%20SQL%20SELECT%20Statement/images/B.2.4.png)\n",
        "---\n",
        "*    In this example, suppose we want to retrieve details of all the films from the *“FilmLocations”* table. The details of each film record should contain all the film columns.\n",
        "   \n",
        "    i.Problem:\n",
        "> Retrieve all records with all columns from the *“FilmLocations”* table.   \n",
        "\n",
        "    ii.Solution:\n",
        "```\n",
        "SELECT * FROM FilmLocations;\n",
        "```\n",
        "    iii.Copy the solution code above by clicking on the little copy button on the bottom right of the codeblock below and paste it to the textbox of the Datasette tool. Then click Submit query.\n",
        "    ![A.3.png](https://cf-courses-data.s3.us.cloud-object-storage.appdomain.cloud/IBMDeveloperSkillsNetwork-DB0201EN-SkillsNetwork/labs/Labs_Coursera_V5/labs/Lab%20-%20Basics%20of%20SQL%20SELECT%20Statement/images/B.1.3.png)   \n",
        "\n",
        "    iv.Your output resultset should match like below:\n",
        "    ![A.4.png](https://cf-courses-data.s3.us.cloud-object-storage.appdomain.cloud/IBMDeveloperSkillsNetwork-DB0201EN-SkillsNetwork/labs/Labs_Coursera_V5/labs/Lab%20-%20Basics%20of%20SQL%20SELECT%20Statement/images/B.1.4.png) \n",
        "\n",
        "\n",
        "---\n",
        "\n",
        "\n",
        "*    In this example, we want to retrieve film names along with filming locations and release years. But we also want to restrict the output resultset so that we can retrieve only the film records released in 2001 and onwards (release years after 2001 including 2001).\n",
        "    i.Problem:\n",
        "    >Retrieve the names of all films released in the 21st century and onwards (release years after 2001 including 2001), along with filming locations and release years.\n",
        "    ii.Solution:\n",
        "\n",
        "    ```\n",
        "    SELECT Title, ReleaseYear, Locations FROM FilmLocations WHERE ReleaseYear>=2001;\n",
        "    ```\n",
        "    iii.Copy the solution code above by clicking on the little copy button on the bottom right of the codeblock below and paste it to the textbox of the Datasette tool. Then click **Submit query**.\n",
        "    ![B.3.3.png](https://cf-courses-data.s3.us.cloud-object-storage.appdomain.cloud/IBMDeveloperSkillsNetwork-DB0201EN-SkillsNetwork/labs/Labs_Coursera_V5/labs/Lab%20-%20Basics%20of%20SQL%20SELECT%20Statement/images/B.3.3.png)\n",
        "    iv.Your output resultset should match like below:\n",
        "    ![B.3.4.png](https://cf-courses-data.s3.us.cloud-object-storage.appdomain.cloud/IBMDeveloperSkillsNetwork-DB0201EN-SkillsNetwork/labs/Labs_Coursera_V5/labs/Lab%20-%20Basics%20of%20SQL%20SELECT%20Statement/images/B.3.4.png)\n",
        "\n",
        "   \n",
        "\n",
        "\n",
        "\n",
        "\n",
        "\n",
        "\n",
        "\n",
        "\n",
        "\n",
        "\n",
        "\n",
        "\n",
        "\n"
      ],
      "metadata": {
        "id": "I2zTzpAkTlXN"
      }
    }
  ]
}
